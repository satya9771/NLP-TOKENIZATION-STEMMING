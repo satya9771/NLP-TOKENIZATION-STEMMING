{
 "cells": [
  {
   "cell_type": "code",
   "execution_count": 1,
   "id": "651b5bd9",
   "metadata": {
    "scrolled": true
   },
   "outputs": [
    {
     "name": "stdout",
     "output_type": "stream",
     "text": [
      "Requirement already satisfied: nltk in c:\\programdata\\anaconda3\\lib\\site-packages (3.6.5)\n",
      "Requirement already satisfied: click in c:\\programdata\\anaconda3\\lib\\site-packages (from nltk) (8.0.3)\n",
      "Requirement already satisfied: joblib in c:\\programdata\\anaconda3\\lib\\site-packages (from nltk) (1.1.0)\n",
      "Requirement already satisfied: regex>=2021.8.3 in c:\\programdata\\anaconda3\\lib\\site-packages (from nltk) (2021.8.3)\n",
      "Requirement already satisfied: tqdm in c:\\programdata\\anaconda3\\lib\\site-packages (from nltk) (4.62.3)\n",
      "Requirement already satisfied: colorama in c:\\programdata\\anaconda3\\lib\\site-packages (from click->nltk) (0.4.4)\n",
      "Note: you may need to restart the kernel to use updated packages.\n"
     ]
    },
    {
     "name": "stderr",
     "output_type": "stream",
     "text": [
      "WARNING: Ignoring invalid distribution -umpy (c:\\programdata\\anaconda3\\lib\\site-packages)\n",
      "WARNING: Ignoring invalid distribution -umpy (c:\\programdata\\anaconda3\\lib\\site-packages)\n",
      "WARNING: Ignoring invalid distribution -umpy (c:\\programdata\\anaconda3\\lib\\site-packages)\n",
      "WARNING: Ignoring invalid distribution -umpy (c:\\programdata\\anaconda3\\lib\\site-packages)\n",
      "WARNING: Ignoring invalid distribution -umpy (c:\\programdata\\anaconda3\\lib\\site-packages)\n",
      "WARNING: Ignoring invalid distribution -umpy (c:\\programdata\\anaconda3\\lib\\site-packages)\n"
     ]
    }
   ],
   "source": [
    "pip install nltk"
   ]
  },
  {
   "cell_type": "code",
   "execution_count": 55,
   "id": "0ba9333f",
   "metadata": {},
   "outputs": [],
   "source": [
    "\n",
    "\n",
    "paragraph=\"\"\"Narendra Damodardas Modi (Gujarati: [ˈnəɾendɾə dɑmodəɾˈdɑs ˈmodiː] (listen); born 17 September 1950)[b] is an Indian politician serving as the 14th and current Prime Minister of India since 2014. Modi was the Chief Minister of Gujarat from 2001 to 2014 and is the Member of Parliament from Varanasi. He is a member of the Bharatiya Janata Party (BJP) and of the Rashtriya Swayamsevak Sangh (RSS), a right-wing Hindu nationalist paramilitary volunteer organisation. He is the longest serving prime minister from outside the Indian National Congress.\n",
    "\n",
    "Modi was born and raised in Vadnagar in northeastern Gujarat, where he completed his secondary education. He was introduced to the RSS at age eight. He has reminisced about helping out after school at his father's tea stall at the Vadnagar railway station. At age 18, Modi was married to Jashodaben Chimanlal Modi, whom he abandoned soon after. He first publicly acknowledged her as his wife more than four decades later when required to do so by Indian law, but has made no contact with her since. Modi has asserted he had travelled in northern India for two years after leaving his parental home, visiting a number of religious centres, but few details of his travels have emerged. Upon his return to Gujarat in 1971, he became a full-time worker for the RSS. After the state of emergency was declared by prime minister Indira Gandhi in 1975, Modi went into hiding. The RSS assigned him to the BJP in 1985 and he held several positions within the party hierarchy until 2001, rising to the rank of general secretary.[c]\n",
    "\n",
    "Modi was appointed Chief Minister of Gujarat in 2001 due to Keshubhai Patel's failing health and poor public image following the earthquake in Bhuj. Modi was elected to the legislative assembly soon after. His administration has been considered complicit in the 2002 Gujarat riots in which 1044 people were killed, three-quarters of whom were Muslim,[d] or otherwise criticised for its management of the crisis. A Special Investigation Team appointed by the Supreme Court of India found no evidence to initiate prosecution proceedings against Modi personally.[e] While his policies as chief minister—credited with encouraging economic growth—have received praise, his administration was criticised for failing to significantly improve health, poverty and education indices in the state.[f] \"\"\""
   ]
  },
  {
   "cell_type": "code",
   "execution_count": 56,
   "id": "009bd77b",
   "metadata": {},
   "outputs": [
    {
     "data": {
      "text/plain": [
       "\"Narendra Damodardas Modi (Gujarati: [ˈnəɾendɾə dɑmodəɾˈdɑs ˈmodiː] (listen); born 17 September 1950)[b] is an Indian politician serving as the 14th and current Prime Minister of India since 2014. Modi was the Chief Minister of Gujarat from 2001 to 2014 and is the Member of Parliament from Varanasi. He is a member of the Bharatiya Janata Party (BJP) and of the Rashtriya Swayamsevak Sangh (RSS), a right-wing Hindu nationalist paramilitary volunteer organisation. He is the longest serving prime minister from outside the Indian National Congress.\\n\\nModi was born and raised in Vadnagar in northeastern Gujarat, where he completed his secondary education. He was introduced to the RSS at age eight. He has reminisced about helping out after school at his father's tea stall at the Vadnagar railway station. At age 18, Modi was married to Jashodaben Chimanlal Modi, whom he abandoned soon after. He first publicly acknowledged her as his wife more than four decades later when required to do so by Indian law, but has made no contact with her since. Modi has asserted he had travelled in northern India for two years after leaving his parental home, visiting a number of religious centres, but few details of his travels have emerged. Upon his return to Gujarat in 1971, he became a full-time worker for the RSS. After the state of emergency was declared by prime minister Indira Gandhi in 1975, Modi went into hiding. The RSS assigned him to the BJP in 1985 and he held several positions within the party hierarchy until 2001, rising to the rank of general secretary.[c]\\n\\nModi was appointed Chief Minister of Gujarat in 2001 due to Keshubhai Patel's failing health and poor public image following the earthquake in Bhuj. Modi was elected to the legislative assembly soon after. His administration has been considered complicit in the 2002 Gujarat riots in which 1044 people were killed, three-quarters of whom were Muslim,[d] or otherwise criticised for its management of the crisis. A Special Investigation Team appointed by the Supreme Court of India found no evidence to initiate prosecution proceedings against Modi personally.[e] While his policies as chief minister—credited with encouraging economic growth—have received praise, his administration was criticised for failing to significantly improve health, poverty and education indices in the state.[f] \""
      ]
     },
     "execution_count": 56,
     "metadata": {},
     "output_type": "execute_result"
    }
   ],
   "source": [
    "paragraph"
   ]
  },
  {
   "cell_type": "code",
   "execution_count": 58,
   "id": "64614329",
   "metadata": {},
   "outputs": [],
   "source": [
    "import nltk\n",
    "from nltk.stem import PorterStemmer\n",
    "from nltk.corpus import stopwords\n",
    "from nltk.corpus import stopwords"
   ]
  },
  {
   "cell_type": "code",
   "execution_count": 59,
   "id": "34fb10d7",
   "metadata": {},
   "outputs": [
    {
     "name": "stderr",
     "output_type": "stream",
     "text": [
      "[nltk_data] Downloading package punkt to\n",
      "[nltk_data]     C:\\Users\\SATYAM\\AppData\\Roaming\\nltk_data...\n",
      "[nltk_data]   Package punkt is already up-to-date!\n"
     ]
    }
   ],
   "source": [
    "## tokenization-- converts paragraph-sentence -words\n",
    "nltk.download('punkt')\n",
    "sentences=nltk.sent_tokenize(paragraph)"
   ]
  },
  {
   "cell_type": "code",
   "execution_count": 60,
   "id": "c58534c5",
   "metadata": {},
   "outputs": [
    {
     "name": "stdout",
     "output_type": "stream",
     "text": [
      "['Narendra Damodardas Modi (Gujarati: [ˈnəɾendɾə dɑmodəɾˈdɑs ˈmodiː] (listen); born 17 September 1950)[b] is an Indian politician serving as the 14th and current Prime Minister of India since 2014.', 'Modi was the Chief Minister of Gujarat from 2001 to 2014 and is the Member of Parliament from Varanasi.', 'He is a member of the Bharatiya Janata Party (BJP) and of the Rashtriya Swayamsevak Sangh (RSS), a right-wing Hindu nationalist paramilitary volunteer organisation.', 'He is the longest serving prime minister from outside the Indian National Congress.', 'Modi was born and raised in Vadnagar in northeastern Gujarat, where he completed his secondary education.', 'He was introduced to the RSS at age eight.', \"He has reminisced about helping out after school at his father's tea stall at the Vadnagar railway station.\", 'At age 18, Modi was married to Jashodaben Chimanlal Modi, whom he abandoned soon after.', 'He first publicly acknowledged her as his wife more than four decades later when required to do so by Indian law, but has made no contact with her since.', 'Modi has asserted he had travelled in northern India for two years after leaving his parental home, visiting a number of religious centres, but few details of his travels have emerged.', 'Upon his return to Gujarat in 1971, he became a full-time worker for the RSS.', 'After the state of emergency was declared by prime minister Indira Gandhi in 1975, Modi went into hiding.', 'The RSS assigned him to the BJP in 1985 and he held several positions within the party hierarchy until 2001, rising to the rank of general secretary.', \"[c]\\n\\nModi was appointed Chief Minister of Gujarat in 2001 due to Keshubhai Patel's failing health and poor public image following the earthquake in Bhuj.\", 'Modi was elected to the legislative assembly soon after.', 'His administration has been considered complicit in the 2002 Gujarat riots in which 1044 people were killed, three-quarters of whom were Muslim,[d] or otherwise criticised for its management of the crisis.', 'A Special Investigation Team appointed by the Supreme Court of India found no evidence to initiate prosecution proceedings against Modi personally.', '[e] While his policies as chief minister—credited with encouraging economic growth—have received praise, his administration was criticised for failing to significantly improve health, poverty and education indices in the state.', '[f]']\n"
     ]
    }
   ],
   "source": [
    "print(sentences)"
   ]
  },
  {
   "cell_type": "code",
   "execution_count": 61,
   "id": "adab7e63",
   "metadata": {},
   "outputs": [
    {
     "data": {
      "text/plain": [
       "list"
      ]
     },
     "execution_count": 61,
     "metadata": {},
     "output_type": "execute_result"
    }
   ],
   "source": [
    "type(sentences)"
   ]
  },
  {
   "cell_type": "code",
   "execution_count": 62,
   "id": "8f3db6ac",
   "metadata": {},
   "outputs": [],
   "source": [
    " stemmer=PorterStemmer()\n",
    "   "
   ]
  },
  {
   "cell_type": "code",
   "execution_count": 63,
   "id": "475cd52f",
   "metadata": {},
   "outputs": [
    {
     "data": {
      "text/plain": [
       "'go'"
      ]
     },
     "execution_count": 63,
     "metadata": {},
     "output_type": "execute_result"
    }
   ],
   "source": [
    " stemmer.stem('going')"
   ]
  },
  {
   "cell_type": "code",
   "execution_count": 64,
   "id": "84574209",
   "metadata": {},
   "outputs": [
    {
     "data": {
      "text/plain": [
       "'histori'"
      ]
     },
     "execution_count": 64,
     "metadata": {},
     "output_type": "execute_result"
    }
   ],
   "source": [
    "stemmer.stem('history')"
   ]
  },
  {
   "cell_type": "code",
   "execution_count": 91,
   "id": "7759e0ca",
   "metadata": {},
   "outputs": [],
   "source": [
    "from nltk.stem import WordNetLemmatizer\n"
   ]
  },
  {
   "cell_type": "code",
   "execution_count": 66,
   "id": "6e1b969e",
   "metadata": {},
   "outputs": [
    {
     "name": "stderr",
     "output_type": "stream",
     "text": [
      "[nltk_data] Downloading package wordnet to\n",
      "[nltk_data]     C:\\Users\\SATYAM\\AppData\\Roaming\\nltk_data...\n",
      "[nltk_data]   Package wordnet is already up-to-date!\n"
     ]
    },
    {
     "data": {
      "text/plain": [
       "True"
      ]
     },
     "execution_count": 66,
     "metadata": {},
     "output_type": "execute_result"
    }
   ],
   "source": [
    " nltk.download('wordnet')"
   ]
  },
  {
   "cell_type": "code",
   "execution_count": 92,
   "id": "a36e9ec9",
   "metadata": {},
   "outputs": [],
   "source": [
    "lemmatizer=WordNetLemmatizer()\n"
   ]
  },
  {
   "cell_type": "code",
   "execution_count": 68,
   "id": "b63488ed",
   "metadata": {},
   "outputs": [
    {
     "data": {
      "text/plain": [
       "'going'"
      ]
     },
     "execution_count": 68,
     "metadata": {},
     "output_type": "execute_result"
    }
   ],
   "source": [
    "lemmatizer.lemmatize('going')"
   ]
  },
  {
   "cell_type": "code",
   "execution_count": 69,
   "id": "95fb3112",
   "metadata": {},
   "outputs": [
    {
     "data": {
      "text/plain": [
       "'go'"
      ]
     },
     "execution_count": 69,
     "metadata": {},
     "output_type": "execute_result"
    }
   ],
   "source": [
    " lemmatizer.lemmatize('goes')"
   ]
  },
  {
   "cell_type": "code",
   "execution_count": 70,
   "id": "6d33dc7a",
   "metadata": {},
   "outputs": [
    {
     "data": {
      "text/plain": [
       "19"
      ]
     },
     "execution_count": 70,
     "metadata": {},
     "output_type": "execute_result"
    }
   ],
   "source": [
    "len(sentences)"
   ]
  },
  {
   "cell_type": "code",
   "execution_count": 71,
   "id": "ef5d5e2a",
   "metadata": {},
   "outputs": [],
   "source": [
    "import re\n",
    "\n"
   ]
  },
  {
   "cell_type": "code",
   "execution_count": 72,
   "id": "4c37b354",
   "metadata": {},
   "outputs": [],
   "source": [
    "corpus=[]\n",
    "for i in range(len(sentences)):\n",
    "    review=re.sub('[^a-zA-Z]',' ',sentences[i])\n",
    "    review= review.lower()\n",
    "    corpus.append(review)"
   ]
  },
  {
   "cell_type": "code",
   "execution_count": 73,
   "id": "475e5a7f",
   "metadata": {},
   "outputs": [
    {
     "data": {
      "text/plain": [
       "['narendra damodardas modi  gujarati    n  end   d mod   d s  modi    listen   born    september       b  is an indian politician serving as the   th and current prime minister of india since      ',\n",
       " 'modi was the chief minister of gujarat from      to      and is the member of parliament from varanasi ',\n",
       " 'he is a member of the bharatiya janata party  bjp  and of the rashtriya swayamsevak sangh  rss   a right wing hindu nationalist paramilitary volunteer organisation ',\n",
       " 'he is the longest serving prime minister from outside the indian national congress ',\n",
       " 'modi was born and raised in vadnagar in northeastern gujarat  where he completed his secondary education ',\n",
       " 'he was introduced to the rss at age eight ',\n",
       " 'he has reminisced about helping out after school at his father s tea stall at the vadnagar railway station ',\n",
       " 'at age     modi was married to jashodaben chimanlal modi  whom he abandoned soon after ',\n",
       " 'he first publicly acknowledged her as his wife more than four decades later when required to do so by indian law  but has made no contact with her since ',\n",
       " 'modi has asserted he had travelled in northern india for two years after leaving his parental home  visiting a number of religious centres  but few details of his travels have emerged ',\n",
       " 'upon his return to gujarat in       he became a full time worker for the rss ',\n",
       " 'after the state of emergency was declared by prime minister indira gandhi in       modi went into hiding ',\n",
       " 'the rss assigned him to the bjp in      and he held several positions within the party hierarchy until       rising to the rank of general secretary ',\n",
       " ' c   modi was appointed chief minister of gujarat in      due to keshubhai patel s failing health and poor public image following the earthquake in bhuj ',\n",
       " 'modi was elected to the legislative assembly soon after ',\n",
       " 'his administration has been considered complicit in the      gujarat riots in which      people were killed  three quarters of whom were muslim  d  or otherwise criticised for its management of the crisis ',\n",
       " 'a special investigation team appointed by the supreme court of india found no evidence to initiate prosecution proceedings against modi personally ',\n",
       " ' e  while his policies as chief minister credited with encouraging economic growth have received praise  his administration was criticised for failing to significantly improve health  poverty and education indices in the state ',\n",
       " ' f ']"
      ]
     },
     "execution_count": 73,
     "metadata": {},
     "output_type": "execute_result"
    }
   ],
   "source": [
    "corpus"
   ]
  },
  {
   "cell_type": "code",
   "execution_count": 74,
   "id": "67bcd20a",
   "metadata": {},
   "outputs": [
    {
     "name": "stderr",
     "output_type": "stream",
     "text": [
      "[nltk_data] Downloading package stopwords to\n",
      "[nltk_data]     C:\\Users\\SATYAM\\AppData\\Roaming\\nltk_data...\n",
      "[nltk_data]   Package stopwords is already up-to-date!\n"
     ]
    },
    {
     "data": {
      "text/plain": [
       "True"
      ]
     },
     "execution_count": 74,
     "metadata": {},
     "output_type": "execute_result"
    }
   ],
   "source": [
    "import nltk\n",
    "nltk.download('stopwords')"
   ]
  },
  {
   "cell_type": "code",
   "execution_count": 75,
   "id": "e6889119",
   "metadata": {},
   "outputs": [
    {
     "data": {
      "text/plain": [
       "['i',\n",
       " 'me',\n",
       " 'my',\n",
       " 'myself',\n",
       " 'we',\n",
       " 'our',\n",
       " 'ours',\n",
       " 'ourselves',\n",
       " 'you',\n",
       " \"you're\",\n",
       " \"you've\",\n",
       " \"you'll\",\n",
       " \"you'd\",\n",
       " 'your',\n",
       " 'yours',\n",
       " 'yourself',\n",
       " 'yourselves',\n",
       " 'he',\n",
       " 'him',\n",
       " 'his',\n",
       " 'himself',\n",
       " 'she',\n",
       " \"she's\",\n",
       " 'her',\n",
       " 'hers',\n",
       " 'herself',\n",
       " 'it',\n",
       " \"it's\",\n",
       " 'its',\n",
       " 'itself',\n",
       " 'they',\n",
       " 'them',\n",
       " 'their',\n",
       " 'theirs',\n",
       " 'themselves',\n",
       " 'what',\n",
       " 'which',\n",
       " 'who',\n",
       " 'whom',\n",
       " 'this',\n",
       " 'that',\n",
       " \"that'll\",\n",
       " 'these',\n",
       " 'those',\n",
       " 'am',\n",
       " 'is',\n",
       " 'are',\n",
       " 'was',\n",
       " 'were',\n",
       " 'be',\n",
       " 'been',\n",
       " 'being',\n",
       " 'have',\n",
       " 'has',\n",
       " 'had',\n",
       " 'having',\n",
       " 'do',\n",
       " 'does',\n",
       " 'did',\n",
       " 'doing',\n",
       " 'a',\n",
       " 'an',\n",
       " 'the',\n",
       " 'and',\n",
       " 'but',\n",
       " 'if',\n",
       " 'or',\n",
       " 'because',\n",
       " 'as',\n",
       " 'until',\n",
       " 'while',\n",
       " 'of',\n",
       " 'at',\n",
       " 'by',\n",
       " 'for',\n",
       " 'with',\n",
       " 'about',\n",
       " 'against',\n",
       " 'between',\n",
       " 'into',\n",
       " 'through',\n",
       " 'during',\n",
       " 'before',\n",
       " 'after',\n",
       " 'above',\n",
       " 'below',\n",
       " 'to',\n",
       " 'from',\n",
       " 'up',\n",
       " 'down',\n",
       " 'in',\n",
       " 'out',\n",
       " 'on',\n",
       " 'off',\n",
       " 'over',\n",
       " 'under',\n",
       " 'again',\n",
       " 'further',\n",
       " 'then',\n",
       " 'once',\n",
       " 'here',\n",
       " 'there',\n",
       " 'when',\n",
       " 'where',\n",
       " 'why',\n",
       " 'how',\n",
       " 'all',\n",
       " 'any',\n",
       " 'both',\n",
       " 'each',\n",
       " 'few',\n",
       " 'more',\n",
       " 'most',\n",
       " 'other',\n",
       " 'some',\n",
       " 'such',\n",
       " 'no',\n",
       " 'nor',\n",
       " 'not',\n",
       " 'only',\n",
       " 'own',\n",
       " 'same',\n",
       " 'so',\n",
       " 'than',\n",
       " 'too',\n",
       " 'very',\n",
       " 's',\n",
       " 't',\n",
       " 'can',\n",
       " 'will',\n",
       " 'just',\n",
       " 'don',\n",
       " \"don't\",\n",
       " 'should',\n",
       " \"should've\",\n",
       " 'now',\n",
       " 'd',\n",
       " 'll',\n",
       " 'm',\n",
       " 'o',\n",
       " 're',\n",
       " 've',\n",
       " 'y',\n",
       " 'ain',\n",
       " 'aren',\n",
       " \"aren't\",\n",
       " 'couldn',\n",
       " \"couldn't\",\n",
       " 'didn',\n",
       " \"didn't\",\n",
       " 'doesn',\n",
       " \"doesn't\",\n",
       " 'hadn',\n",
       " \"hadn't\",\n",
       " 'hasn',\n",
       " \"hasn't\",\n",
       " 'haven',\n",
       " \"haven't\",\n",
       " 'isn',\n",
       " \"isn't\",\n",
       " 'ma',\n",
       " 'mightn',\n",
       " \"mightn't\",\n",
       " 'mustn',\n",
       " \"mustn't\",\n",
       " 'needn',\n",
       " \"needn't\",\n",
       " 'shan',\n",
       " \"shan't\",\n",
       " 'shouldn',\n",
       " \"shouldn't\",\n",
       " 'wasn',\n",
       " \"wasn't\",\n",
       " 'weren',\n",
       " \"weren't\",\n",
       " 'won',\n",
       " \"won't\",\n",
       " 'wouldn',\n",
       " \"wouldn't\"]"
      ]
     },
     "execution_count": 75,
     "metadata": {},
     "output_type": "execute_result"
    }
   ],
   "source": [
    "stopwords.words('english')"
   ]
  },
  {
   "cell_type": "code",
   "execution_count": 76,
   "id": "7d3bc4b6",
   "metadata": {},
   "outputs": [
    {
     "name": "stdout",
     "output_type": "stream",
     "text": [
      "narendra\n",
      "damodarda\n",
      "modi\n",
      "gujarati\n",
      "n\n",
      "end\n",
      "mod\n",
      "modi\n",
      "listen\n",
      "born\n",
      "septemb\n",
      "b\n",
      "indian\n",
      "politician\n",
      "serv\n",
      "th\n",
      "current\n",
      "prime\n",
      "minist\n",
      "india\n",
      "sinc\n",
      "modi\n",
      "chief\n",
      "minist\n",
      "gujarat\n",
      "member\n",
      "parliament\n",
      "varanasi\n",
      "member\n",
      "bharatiya\n",
      "janata\n",
      "parti\n",
      "bjp\n",
      "rashtriya\n",
      "swayamsevak\n",
      "sangh\n",
      "rss\n",
      "right\n",
      "wing\n",
      "hindu\n",
      "nationalist\n",
      "paramilitari\n",
      "volunt\n",
      "organis\n",
      "longest\n",
      "serv\n",
      "prime\n",
      "minist\n",
      "outsid\n",
      "indian\n",
      "nation\n",
      "congress\n",
      "modi\n",
      "born\n",
      "rais\n",
      "vadnagar\n",
      "northeastern\n",
      "gujarat\n",
      "complet\n",
      "secondari\n",
      "educ\n",
      "introduc\n",
      "rss\n",
      "age\n",
      "eight\n",
      "reminisc\n",
      "help\n",
      "school\n",
      "father\n",
      "tea\n",
      "stall\n",
      "vadnagar\n",
      "railway\n",
      "station\n",
      "age\n",
      "modi\n",
      "marri\n",
      "jashodaben\n",
      "chimanl\n",
      "modi\n",
      "abandon\n",
      "soon\n",
      "first\n",
      "publicli\n",
      "acknowledg\n",
      "wife\n",
      "four\n",
      "decad\n",
      "later\n",
      "requir\n",
      "indian\n",
      "law\n",
      "made\n",
      "contact\n",
      "sinc\n",
      "modi\n",
      "assert\n",
      "travel\n",
      "northern\n",
      "india\n",
      "two\n",
      "year\n",
      "leav\n",
      "parent\n",
      "home\n",
      "visit\n",
      "number\n",
      "religi\n",
      "centr\n",
      "detail\n",
      "travel\n",
      "emerg\n",
      "upon\n",
      "return\n",
      "gujarat\n",
      "becam\n",
      "full\n",
      "time\n",
      "worker\n",
      "rss\n",
      "state\n",
      "emerg\n",
      "declar\n",
      "prime\n",
      "minist\n",
      "indira\n",
      "gandhi\n",
      "modi\n",
      "went\n",
      "hide\n",
      "rss\n",
      "assign\n",
      "bjp\n",
      "held\n",
      "sever\n",
      "posit\n",
      "within\n",
      "parti\n",
      "hierarchi\n",
      "rise\n",
      "rank\n",
      "gener\n",
      "secretari\n",
      "c\n",
      "modi\n",
      "appoint\n",
      "chief\n",
      "minist\n",
      "gujarat\n",
      "due\n",
      "keshubhai\n",
      "patel\n",
      "fail\n",
      "health\n",
      "poor\n",
      "public\n",
      "imag\n",
      "follow\n",
      "earthquak\n",
      "bhuj\n",
      "modi\n",
      "elect\n",
      "legisl\n",
      "assembl\n",
      "soon\n",
      "administr\n",
      "consid\n",
      "complicit\n",
      "gujarat\n",
      "riot\n",
      "peopl\n",
      "kill\n",
      "three\n",
      "quarter\n",
      "muslim\n",
      "otherwis\n",
      "criticis\n",
      "manag\n",
      "crisi\n",
      "special\n",
      "investig\n",
      "team\n",
      "appoint\n",
      "suprem\n",
      "court\n",
      "india\n",
      "found\n",
      "evid\n",
      "initi\n",
      "prosecut\n",
      "proceed\n",
      "modi\n",
      "person\n",
      "e\n",
      "polici\n",
      "chief\n",
      "minist\n",
      "credit\n",
      "encourag\n",
      "econom\n",
      "growth\n",
      "receiv\n",
      "prais\n",
      "administr\n",
      "criticis\n",
      "fail\n",
      "significantli\n",
      "improv\n",
      "health\n",
      "poverti\n",
      "educ\n",
      "indic\n",
      "state\n",
      "f\n"
     ]
    }
   ],
   "source": [
    "\n",
    "##stemming\n",
    "for i in corpus:\n",
    "    words=nltk.word_tokenize(i)\n",
    "    for word in words:\n",
    "        if word not in set(stopwords.words('english')):\n",
    "            print(stemmer.stem(word))\n",
    "            \n",
    "        "
   ]
  },
  {
   "cell_type": "code",
   "execution_count": 77,
   "id": "9fdb2957",
   "metadata": {},
   "outputs": [
    {
     "name": "stdout",
     "output_type": "stream",
     "text": [
      "narendra\n",
      "damodardas\n",
      "modi\n",
      "gujarati\n",
      "n\n",
      "end\n",
      "mod\n",
      "modi\n",
      "listen\n",
      "born\n",
      "september\n",
      "b\n",
      "indian\n",
      "politician\n",
      "serving\n",
      "th\n",
      "current\n",
      "prime\n",
      "minister\n",
      "india\n",
      "since\n",
      "modi\n",
      "chief\n",
      "minister\n",
      "gujarat\n",
      "member\n",
      "parliament\n",
      "varanasi\n",
      "member\n",
      "bharatiya\n",
      "janata\n",
      "party\n",
      "bjp\n",
      "rashtriya\n",
      "swayamsevak\n",
      "sangh\n",
      "r\n",
      "right\n",
      "wing\n",
      "hindu\n",
      "nationalist\n",
      "paramilitary\n",
      "volunteer\n",
      "organisation\n",
      "longest\n",
      "serving\n",
      "prime\n",
      "minister\n",
      "outside\n",
      "indian\n",
      "national\n",
      "congress\n",
      "modi\n",
      "born\n",
      "raised\n",
      "vadnagar\n",
      "northeastern\n",
      "gujarat\n",
      "completed\n",
      "secondary\n",
      "education\n",
      "introduced\n",
      "r\n",
      "age\n",
      "eight\n",
      "reminisced\n",
      "helping\n",
      "school\n",
      "father\n",
      "tea\n",
      "stall\n",
      "vadnagar\n",
      "railway\n",
      "station\n",
      "age\n",
      "modi\n",
      "married\n",
      "jashodaben\n",
      "chimanlal\n",
      "modi\n",
      "abandoned\n",
      "soon\n",
      "first\n",
      "publicly\n",
      "acknowledged\n",
      "wife\n",
      "four\n",
      "decade\n",
      "later\n",
      "required\n",
      "indian\n",
      "law\n",
      "made\n",
      "contact\n",
      "since\n",
      "modi\n",
      "asserted\n",
      "travelled\n",
      "northern\n",
      "india\n",
      "two\n",
      "year\n",
      "leaving\n",
      "parental\n",
      "home\n",
      "visiting\n",
      "number\n",
      "religious\n",
      "centre\n",
      "detail\n",
      "travel\n",
      "emerged\n",
      "upon\n",
      "return\n",
      "gujarat\n",
      "became\n",
      "full\n",
      "time\n",
      "worker\n",
      "r\n",
      "state\n",
      "emergency\n",
      "declared\n",
      "prime\n",
      "minister\n",
      "indira\n",
      "gandhi\n",
      "modi\n",
      "went\n",
      "hiding\n",
      "r\n",
      "assigned\n",
      "bjp\n",
      "held\n",
      "several\n",
      "position\n",
      "within\n",
      "party\n",
      "hierarchy\n",
      "rising\n",
      "rank\n",
      "general\n",
      "secretary\n",
      "c\n",
      "modi\n",
      "appointed\n",
      "chief\n",
      "minister\n",
      "gujarat\n",
      "due\n",
      "keshubhai\n",
      "patel\n",
      "failing\n",
      "health\n",
      "poor\n",
      "public\n",
      "image\n",
      "following\n",
      "earthquake\n",
      "bhuj\n",
      "modi\n",
      "elected\n",
      "legislative\n",
      "assembly\n",
      "soon\n",
      "administration\n",
      "considered\n",
      "complicit\n",
      "gujarat\n",
      "riot\n",
      "people\n",
      "killed\n",
      "three\n",
      "quarter\n",
      "muslim\n",
      "otherwise\n",
      "criticised\n",
      "management\n",
      "crisis\n",
      "special\n",
      "investigation\n",
      "team\n",
      "appointed\n",
      "supreme\n",
      "court\n",
      "india\n",
      "found\n",
      "evidence\n",
      "initiate\n",
      "prosecution\n",
      "proceeding\n",
      "modi\n",
      "personally\n",
      "e\n",
      "policy\n",
      "chief\n",
      "minister\n",
      "credited\n",
      "encouraging\n",
      "economic\n",
      "growth\n",
      "received\n",
      "praise\n",
      "administration\n",
      "criticised\n",
      "failing\n",
      "significantly\n",
      "improve\n",
      "health\n",
      "poverty\n",
      "education\n",
      "index\n",
      "state\n",
      "f\n"
     ]
    }
   ],
   "source": [
    "##lemmatization\n",
    "for i in corpus:\n",
    "    words=nltk.word_tokenize(i)\n",
    "    for word in words:\n",
    "        if word not in set(stopwords.words('english')):\n",
    "            print(lemmatizer.lemmatize(word))"
   ]
  },
  {
   "cell_type": "code",
   "execution_count": 93,
   "id": "b2d4352d",
   "metadata": {},
   "outputs": [
    {
     "name": "stderr",
     "output_type": "stream",
     "text": [
      "[nltk_data] Downloading package wordnet to\n",
      "[nltk_data]     C:\\Users\\SATYAM\\AppData\\Roaming\\nltk_data...\n",
      "[nltk_data]   Package wordnet is already up-to-date!\n"
     ]
    },
    {
     "data": {
      "text/plain": [
       "True"
      ]
     },
     "execution_count": 93,
     "metadata": {},
     "output_type": "execute_result"
    }
   ],
   "source": [
    "import nltk\n",
    "nltk.download('wordnet')"
   ]
  },
  {
   "cell_type": "code",
   "execution_count": 116,
   "id": "2d5ef680",
   "metadata": {
    "scrolled": true
   },
   "outputs": [],
   "source": [
    "## applying stopwords.lemmatize\n",
    "import re\n",
    "corpus=[]\n",
    "for i in range(len(sentences)):\n",
    "    review=re.sub('[^a-zA-Z]',' ',sentences[i])\n",
    "    review=review.lower()\n",
    "    review=review.split()\n",
    "\n",
    "    review=[lemmatizer.lemmatize(word)for word in review if not word in set(stopwords.words('english'))]\n",
    "    review=' '.join(review)\n",
    "    corpus.append(review)"
   ]
  },
  {
   "cell_type": "code",
   "execution_count": 117,
   "id": "0ee5353c",
   "metadata": {},
   "outputs": [],
   "source": [
    "stop_words = set(stopwords.words('english'))\n",
    "lemmatizer = WordNetLemmatizer()\n",
    "corpus = []\n",
    "\n",
    "for sentence in sentences:\n",
    "    # Remove non-alphabetic characters and convert to lowercase\n",
    "    review = re.sub('[^a-zA-Z]', ' ', sentence).lower()\n",
    "\n",
    "    # Tokenize the sentence\n",
    "    review = review.split()\n",
    "\n",
    "    # Remove stop words and lemmatize the remaining words\n",
    "    review = [lemmatizer.lemmatize(word) for word in review if word not in stop_words]\n",
    "\n",
    "    # Join the lemmatized words back into a sentence\n",
    "    review = ' '.join(review)\n",
    "\n",
    "    # Add the processed sentence to the corpus\n",
    "    corpus.append(review)"
   ]
  },
  {
   "cell_type": "code",
   "execution_count": 134,
   "id": "88e7d584",
   "metadata": {},
   "outputs": [],
   "source": [
    "#  bag of words\n",
    "from sklearn.feature_extraction.text import CountVectorizer\n",
    "cv=CountVectorizer()"
   ]
  },
  {
   "cell_type": "code",
   "execution_count": 135,
   "id": "5224020f",
   "metadata": {},
   "outputs": [],
   "source": [
    "from sklearn.feature_extraction.text import CountVectorizer\n",
    "cv=CountVectorizer(binary=True)## after applying binary bag of words we never get value expect 0 and 1."
   ]
  },
  {
   "cell_type": "code",
   "execution_count": 136,
   "id": "a6e6b571",
   "metadata": {},
   "outputs": [],
   "source": [
    "from sklearn.feature_extraction.text import CountVectorizer\n",
    "cv=CountVectorizer(binary=True,ngram_range=(2,3))#after applying this we get bigrams and trigrams"
   ]
  },
  {
   "cell_type": "code",
   "execution_count": 137,
   "id": "ce380173",
   "metadata": {},
   "outputs": [],
   "source": [
    "X=cv.fit_transform(corpus)"
   ]
  },
  {
   "cell_type": "code",
   "execution_count": 138,
   "id": "b1ec6970",
   "metadata": {},
   "outputs": [
    {
     "data": {
      "text/plain": [
       "['narendra damodardas modi gujarati n end mod modi listen born september b indian politician serving th current prime minister india since',\n",
       " 'modi chief minister gujarat member parliament varanasi',\n",
       " 'member bharatiya janata party bjp rashtriya swayamsevak sangh r right wing hindu nationalist paramilitary volunteer organisation',\n",
       " 'longest serving prime minister outside indian national congress',\n",
       " 'modi born raised vadnagar northeastern gujarat completed secondary education',\n",
       " 'introduced r age eight',\n",
       " 'reminisced helping school father tea stall vadnagar railway station',\n",
       " 'age modi married jashodaben chimanlal modi abandoned soon',\n",
       " 'first publicly acknowledged wife four decade later required indian law made contact since',\n",
       " 'modi asserted travelled northern india two year leaving parental home visiting number religious centre detail travel emerged',\n",
       " 'upon return gujarat became full time worker r',\n",
       " 'state emergency declared prime minister indira gandhi modi went hiding',\n",
       " 'r assigned bjp held several position within party hierarchy rising rank general secretary',\n",
       " 'c modi appointed chief minister gujarat due keshubhai patel failing health poor public image following earthquake bhuj',\n",
       " 'modi elected legislative assembly soon',\n",
       " 'administration considered complicit gujarat riot people killed three quarter muslim otherwise criticised management crisis',\n",
       " 'special investigation team appointed supreme court india found evidence initiate prosecution proceeding modi personally',\n",
       " 'e policy chief minister credited encouraging economic growth received praise administration criticised failing significantly improve health poverty education index state',\n",
       " 'f']"
      ]
     },
     "execution_count": 138,
     "metadata": {},
     "output_type": "execute_result"
    }
   ],
   "source": [
    "corpus"
   ]
  },
  {
   "cell_type": "code",
   "execution_count": 139,
   "id": "d2d50111",
   "metadata": {},
   "outputs": [
    {
     "data": {
      "text/plain": [
       "{'narendra damodardas': 216,\n",
       " 'damodardas modi': 55,\n",
       " 'modi gujarati': 205,\n",
       " 'gujarati end': 111,\n",
       " 'end mod': 76,\n",
       " 'mod modi': 191,\n",
       " 'modi listen': 207,\n",
       " 'listen born': 167,\n",
       " 'born september': 29,\n",
       " 'september indian': 298,\n",
       " 'indian politician': 141,\n",
       " 'politician serving': 246,\n",
       " 'serving th': 302,\n",
       " 'th current': 322,\n",
       " 'current prime': 53,\n",
       " 'prime minister': 256,\n",
       " 'minister india': 185,\n",
       " 'india since': 134,\n",
       " 'narendra damodardas modi': 217,\n",
       " 'damodardas modi gujarati': 56,\n",
       " 'modi gujarati end': 206,\n",
       " 'gujarati end mod': 112,\n",
       " 'end mod modi': 77,\n",
       " 'mod modi listen': 192,\n",
       " 'modi listen born': 208,\n",
       " 'listen born september': 168,\n",
       " 'born september indian': 30,\n",
       " 'september indian politician': 299,\n",
       " 'indian politician serving': 142,\n",
       " 'politician serving th': 247,\n",
       " 'serving th current': 303,\n",
       " 'th current prime': 323,\n",
       " 'current prime minister': 54,\n",
       " 'prime minister india': 257,\n",
       " 'minister india since': 186,\n",
       " 'modi chief': 201,\n",
       " 'chief minister': 33,\n",
       " 'minister gujarat': 182,\n",
       " 'gujarat member': 107,\n",
       " 'member parliament': 178,\n",
       " 'parliament varanasi': 235,\n",
       " 'modi chief minister': 202,\n",
       " 'chief minister gujarat': 35,\n",
       " 'minister gujarat member': 184,\n",
       " 'gujarat member parliament': 108,\n",
       " 'member parliament varanasi': 179,\n",
       " 'member bharatiya': 176,\n",
       " 'bharatiya janata': 21,\n",
       " 'janata party': 151,\n",
       " 'party bjp': 236,\n",
       " 'bjp rashtriya': 25,\n",
       " 'rashtriya swayamsevak': 275,\n",
       " 'swayamsevak sangh': 316,\n",
       " 'sangh right': 293,\n",
       " 'right wing': 287,\n",
       " 'wing hindu': 344,\n",
       " 'hindu nationalist': 123,\n",
       " 'nationalist paramilitary': 219,\n",
       " 'paramilitary volunteer': 231,\n",
       " 'volunteer organisation': 340,\n",
       " 'member bharatiya janata': 177,\n",
       " 'bharatiya janata party': 22,\n",
       " 'janata party bjp': 152,\n",
       " 'party bjp rashtriya': 237,\n",
       " 'bjp rashtriya swayamsevak': 26,\n",
       " 'rashtriya swayamsevak sangh': 276,\n",
       " 'swayamsevak sangh right': 317,\n",
       " 'sangh right wing': 294,\n",
       " 'right wing hindu': 288,\n",
       " 'wing hindu nationalist': 345,\n",
       " 'hindu nationalist paramilitary': 124,\n",
       " 'nationalist paramilitary volunteer': 220,\n",
       " 'paramilitary volunteer organisation': 232,\n",
       " 'longest serving': 169,\n",
       " 'serving prime': 300,\n",
       " 'minister outside': 189,\n",
       " 'outside indian': 229,\n",
       " 'indian national': 139,\n",
       " 'national congress': 218,\n",
       " 'longest serving prime': 170,\n",
       " 'serving prime minister': 301,\n",
       " 'prime minister outside': 259,\n",
       " 'minister outside indian': 190,\n",
       " 'outside indian national': 230,\n",
       " 'indian national congress': 140,\n",
       " 'modi born': 199,\n",
       " 'born raised': 27,\n",
       " 'raised vadnagar': 271,\n",
       " 'vadnagar northeastern': 334,\n",
       " 'northeastern gujarat': 221,\n",
       " 'gujarat completed': 103,\n",
       " 'completed secondary': 38,\n",
       " 'secondary education': 297,\n",
       " 'modi born raised': 200,\n",
       " 'born raised vadnagar': 28,\n",
       " 'raised vadnagar northeastern': 272,\n",
       " 'vadnagar northeastern gujarat': 335,\n",
       " 'northeastern gujarat completed': 222,\n",
       " 'gujarat completed secondary': 104,\n",
       " 'completed secondary education': 39,\n",
       " 'introduced age': 147,\n",
       " 'age eight': 7,\n",
       " 'introduced age eight': 148,\n",
       " 'reminisced helping': 281,\n",
       " 'helping school': 119,\n",
       " 'school father': 295,\n",
       " 'father tea': 84,\n",
       " 'tea stall': 318,\n",
       " 'stall vadnagar': 310,\n",
       " 'vadnagar railway': 336,\n",
       " 'railway station': 270,\n",
       " 'reminisced helping school': 282,\n",
       " 'helping school father': 120,\n",
       " 'school father tea': 296,\n",
       " 'father tea stall': 85,\n",
       " 'tea stall vadnagar': 319,\n",
       " 'stall vadnagar railway': 311,\n",
       " 'vadnagar railway station': 337,\n",
       " 'age modi': 8,\n",
       " 'modi married': 209,\n",
       " 'married jashodaben': 174,\n",
       " 'jashodaben chimanlal': 153,\n",
       " 'chimanlal modi': 36,\n",
       " 'modi abandoned': 193,\n",
       " 'abandoned soon': 0,\n",
       " 'age modi married': 9,\n",
       " 'modi married jashodaben': 210,\n",
       " 'married jashodaben chimanlal': 175,\n",
       " 'jashodaben chimanlal modi': 154,\n",
       " 'chimanlal modi abandoned': 37,\n",
       " 'modi abandoned soon': 194,\n",
       " 'first publicly': 86,\n",
       " 'publicly acknowledged': 266,\n",
       " 'acknowledged wife': 1,\n",
       " 'wife four': 342,\n",
       " 'four decade': 92,\n",
       " 'decade later': 57,\n",
       " 'later required': 159,\n",
       " 'required indian': 283,\n",
       " 'indian law': 137,\n",
       " 'law made': 161,\n",
       " 'made contact': 171,\n",
       " 'contact since': 44,\n",
       " 'first publicly acknowledged': 87,\n",
       " 'publicly acknowledged wife': 267,\n",
       " 'acknowledged wife four': 2,\n",
       " 'wife four decade': 343,\n",
       " 'four decade later': 93,\n",
       " 'decade later required': 58,\n",
       " 'later required indian': 160,\n",
       " 'required indian law': 284,\n",
       " 'indian law made': 138,\n",
       " 'law made contact': 162,\n",
       " 'made contact since': 172,\n",
       " 'modi asserted': 197,\n",
       " 'asserted travelled': 15,\n",
       " 'travelled northern': 328,\n",
       " 'northern india': 223,\n",
       " 'india two': 135,\n",
       " 'two year': 330,\n",
       " 'year leaving': 348,\n",
       " 'leaving parental': 163,\n",
       " 'parental home': 233,\n",
       " 'home visiting': 125,\n",
       " 'visiting number': 338,\n",
       " 'number religious': 225,\n",
       " 'religious centre': 279,\n",
       " 'centre detail': 31,\n",
       " 'detail travel': 61,\n",
       " 'travel emerged': 327,\n",
       " 'modi asserted travelled': 198,\n",
       " 'asserted travelled northern': 16,\n",
       " 'travelled northern india': 329,\n",
       " 'northern india two': 224,\n",
       " 'india two year': 136,\n",
       " 'two year leaving': 331,\n",
       " 'year leaving parental': 349,\n",
       " 'leaving parental home': 164,\n",
       " 'parental home visiting': 234,\n",
       " 'home visiting number': 126,\n",
       " 'visiting number religious': 339,\n",
       " 'number religious centre': 226,\n",
       " 'religious centre detail': 280,\n",
       " 'centre detail travel': 32,\n",
       " 'detail travel emerged': 62,\n",
       " 'upon return': 332,\n",
       " 'return gujarat': 285,\n",
       " 'gujarat became': 101,\n",
       " 'became full': 19,\n",
       " 'full time': 94,\n",
       " 'time worker': 326,\n",
       " 'upon return gujarat': 333,\n",
       " 'return gujarat became': 286,\n",
       " 'gujarat became full': 102,\n",
       " 'became full time': 20,\n",
       " 'full time worker': 95,\n",
       " 'state emergency': 312,\n",
       " 'emergency declared': 72,\n",
       " 'declared prime': 59,\n",
       " 'minister indira': 187,\n",
       " 'indira gandhi': 143,\n",
       " 'gandhi modi': 96,\n",
       " 'modi went': 212,\n",
       " 'went hiding': 341,\n",
       " 'state emergency declared': 313,\n",
       " 'emergency declared prime': 73,\n",
       " 'declared prime minister': 60,\n",
       " 'prime minister indira': 258,\n",
       " 'minister indira gandhi': 188,\n",
       " 'indira gandhi modi': 144,\n",
       " 'gandhi modi went': 97,\n",
       " 'modi went hiding': 213,\n",
       " 'assigned bjp': 17,\n",
       " 'bjp held': 23,\n",
       " 'held several': 117,\n",
       " 'several position': 304,\n",
       " 'position within': 250,\n",
       " 'within party': 346,\n",
       " 'party hierarchy': 238,\n",
       " 'hierarchy rising': 121,\n",
       " 'rising rank': 291,\n",
       " 'rank general': 273,\n",
       " 'general secretary': 98,\n",
       " 'assigned bjp held': 18,\n",
       " 'bjp held several': 24,\n",
       " 'held several position': 118,\n",
       " 'several position within': 305,\n",
       " 'position within party': 251,\n",
       " 'within party hierarchy': 347,\n",
       " 'party hierarchy rising': 239,\n",
       " 'hierarchy rising rank': 122,\n",
       " 'rising rank general': 292,\n",
       " 'rank general secretary': 274,\n",
       " 'modi appointed': 195,\n",
       " 'appointed chief': 10,\n",
       " 'gujarat due': 105,\n",
       " 'due keshubhai': 63,\n",
       " 'keshubhai patel': 155,\n",
       " 'patel failing': 240,\n",
       " 'failing health': 80,\n",
       " 'health poor': 113,\n",
       " 'poor public': 248,\n",
       " 'public image': 264,\n",
       " 'image following': 127,\n",
       " 'following earthquake': 88,\n",
       " 'earthquake bhuj': 65,\n",
       " 'modi appointed chief': 196,\n",
       " 'appointed chief minister': 11,\n",
       " 'minister gujarat due': 183,\n",
       " 'gujarat due keshubhai': 106,\n",
       " 'due keshubhai patel': 64,\n",
       " 'keshubhai patel failing': 156,\n",
       " 'patel failing health': 241,\n",
       " 'failing health poor': 81,\n",
       " 'health poor public': 114,\n",
       " 'poor public image': 249,\n",
       " 'public image following': 265,\n",
       " 'image following earthquake': 128,\n",
       " 'following earthquake bhuj': 89,\n",
       " 'modi elected': 203,\n",
       " 'elected legislative': 70,\n",
       " 'legislative assembly': 165,\n",
       " 'assembly soon': 14,\n",
       " 'modi elected legislative': 204,\n",
       " 'elected legislative assembly': 71,\n",
       " 'legislative assembly soon': 166,\n",
       " 'administration considered': 3,\n",
       " 'considered complicit': 42,\n",
       " 'complicit gujarat': 40,\n",
       " 'gujarat riot': 109,\n",
       " 'riot people': 289,\n",
       " 'people killed': 242,\n",
       " 'killed three': 157,\n",
       " 'three quarter': 324,\n",
       " 'quarter muslim': 268,\n",
       " 'muslim otherwise': 214,\n",
       " 'otherwise criticised': 227,\n",
       " 'criticised management': 51,\n",
       " 'management crisis': 173,\n",
       " 'administration considered complicit': 4,\n",
       " 'considered complicit gujarat': 43,\n",
       " 'complicit gujarat riot': 41,\n",
       " 'gujarat riot people': 110,\n",
       " 'riot people killed': 290,\n",
       " 'people killed three': 243,\n",
       " 'killed three quarter': 158,\n",
       " 'three quarter muslim': 325,\n",
       " 'quarter muslim otherwise': 269,\n",
       " 'muslim otherwise criticised': 215,\n",
       " 'otherwise criticised management': 228,\n",
       " 'criticised management crisis': 52,\n",
       " 'special investigation': 308,\n",
       " 'investigation team': 149,\n",
       " 'team appointed': 320,\n",
       " 'appointed supreme': 12,\n",
       " 'supreme court': 314,\n",
       " 'court india': 45,\n",
       " 'india found': 132,\n",
       " 'found evidence': 90,\n",
       " 'evidence initiate': 78,\n",
       " 'initiate prosecution': 145,\n",
       " 'prosecution proceeding': 262,\n",
       " 'proceeding modi': 260,\n",
       " 'modi personally': 211,\n",
       " 'special investigation team': 309,\n",
       " 'investigation team appointed': 150,\n",
       " 'team appointed supreme': 321,\n",
       " 'appointed supreme court': 13,\n",
       " 'supreme court india': 315,\n",
       " 'court india found': 46,\n",
       " 'india found evidence': 133,\n",
       " 'found evidence initiate': 91,\n",
       " 'evidence initiate prosecution': 79,\n",
       " 'initiate prosecution proceeding': 146,\n",
       " 'prosecution proceeding modi': 263,\n",
       " 'proceeding modi personally': 261,\n",
       " 'policy chief': 244,\n",
       " 'minister credited': 180,\n",
       " 'credited encouraging': 47,\n",
       " 'encouraging economic': 74,\n",
       " 'economic growth': 66,\n",
       " 'growth received': 99,\n",
       " 'received praise': 277,\n",
       " 'praise administration': 254,\n",
       " 'administration criticised': 5,\n",
       " 'criticised failing': 49,\n",
       " 'failing significantly': 82,\n",
       " 'significantly improve': 306,\n",
       " 'improve health': 129,\n",
       " 'health poverty': 115,\n",
       " 'poverty education': 252,\n",
       " 'education index': 68,\n",
       " 'index state': 131,\n",
       " 'policy chief minister': 245,\n",
       " 'chief minister credited': 34,\n",
       " 'minister credited encouraging': 181,\n",
       " 'credited encouraging economic': 48,\n",
       " 'encouraging economic growth': 75,\n",
       " 'economic growth received': 67,\n",
       " 'growth received praise': 100,\n",
       " 'received praise administration': 278,\n",
       " 'praise administration criticised': 255,\n",
       " 'administration criticised failing': 6,\n",
       " 'criticised failing significantly': 50,\n",
       " 'failing significantly improve': 83,\n",
       " 'significantly improve health': 307,\n",
       " 'improve health poverty': 130,\n",
       " 'health poverty education': 116,\n",
       " 'poverty education index': 253,\n",
       " 'education index state': 69}"
      ]
     },
     "execution_count": 139,
     "metadata": {},
     "output_type": "execute_result"
    }
   ],
   "source": [
    "cv.vocabulary_"
   ]
  },
  {
   "cell_type": "code",
   "execution_count": 140,
   "id": "a821db42",
   "metadata": {},
   "outputs": [
    {
     "data": {
      "text/plain": [
       "'narendra damodardas modi gujarati n end mod modi listen born september b indian politician serving th current prime minister india since'"
      ]
     },
     "execution_count": 140,
     "metadata": {},
     "output_type": "execute_result"
    }
   ],
   "source": [
    "corpus[0]"
   ]
  },
  {
   "cell_type": "code",
   "execution_count": 141,
   "id": "8f1088a2",
   "metadata": {},
   "outputs": [
    {
     "data": {
      "text/plain": [
       "array([[0, 0, 0, 0, 0, 0, 0, 0, 0, 0, 0, 0, 0, 0, 0, 0, 0, 0, 0, 0, 0, 0,\n",
       "        0, 0, 0, 0, 0, 0, 0, 1, 1, 0, 0, 0, 0, 0, 0, 0, 0, 0, 0, 0, 0, 0,\n",
       "        0, 0, 0, 0, 0, 0, 0, 0, 0, 1, 1, 1, 1, 0, 0, 0, 0, 0, 0, 0, 0, 0,\n",
       "        0, 0, 0, 0, 0, 0, 0, 0, 0, 0, 1, 1, 0, 0, 0, 0, 0, 0, 0, 0, 0, 0,\n",
       "        0, 0, 0, 0, 0, 0, 0, 0, 0, 0, 0, 0, 0, 0, 0, 0, 0, 0, 0, 0, 0, 0,\n",
       "        0, 1, 1, 0, 0, 0, 0, 0, 0, 0, 0, 0, 0, 0, 0, 0, 0, 0, 0, 0, 0, 0,\n",
       "        0, 0, 1, 0, 0, 0, 0, 0, 0, 1, 1, 0, 0, 0, 0, 0, 0, 0, 0, 0, 0, 0,\n",
       "        0, 0, 0, 0, 0, 0, 0, 0, 0, 0, 0, 0, 0, 1, 1, 0, 0, 0, 0, 0, 0, 0,\n",
       "        0, 0, 0, 0, 0, 0, 0, 0, 0, 1, 1, 0, 0, 0, 0, 1, 1, 0, 0, 0, 0, 0,\n",
       "        0, 0, 0, 0, 0, 0, 0, 1, 1, 1, 1, 0, 0, 0, 0, 0, 0, 0, 1, 1, 0, 0,\n",
       "        0, 0, 0, 0, 0, 0, 0, 0, 0, 0, 0, 0, 0, 0, 0, 0, 0, 0, 0, 0, 0, 0,\n",
       "        0, 0, 0, 0, 1, 1, 0, 0, 0, 0, 0, 0, 0, 0, 1, 1, 0, 0, 0, 0, 0, 0,\n",
       "        0, 0, 0, 0, 0, 0, 0, 0, 0, 0, 0, 0, 0, 0, 0, 0, 0, 0, 0, 0, 0, 0,\n",
       "        0, 0, 0, 0, 0, 0, 0, 0, 0, 0, 0, 0, 1, 1, 0, 0, 1, 1, 0, 0, 0, 0,\n",
       "        0, 0, 0, 0, 0, 0, 0, 0, 0, 0, 0, 0, 0, 0, 1, 1, 0, 0, 0, 0, 0, 0,\n",
       "        0, 0, 0, 0, 0, 0, 0, 0, 0, 0, 0, 0, 0, 0, 0, 0, 0, 0, 0, 0]],\n",
       "      dtype=int64)"
      ]
     },
     "execution_count": 141,
     "metadata": {},
     "output_type": "execute_result"
    }
   ],
   "source": [
    "X[0].toarray() ## here binary is false"
   ]
  },
  {
   "cell_type": "code",
   "execution_count": 142,
   "id": "64978988",
   "metadata": {},
   "outputs": [
    {
     "data": {
      "text/plain": [
       "array([[0, 0, 0, 0, 0, 0, 0, 0, 0, 0, 0, 0, 0, 0, 0, 0, 0, 0, 0, 0, 0, 0,\n",
       "        0, 0, 0, 0, 0, 0, 0, 1, 1, 0, 0, 0, 0, 0, 0, 0, 0, 0, 0, 0, 0, 0,\n",
       "        0, 0, 0, 0, 0, 0, 0, 0, 0, 1, 1, 1, 1, 0, 0, 0, 0, 0, 0, 0, 0, 0,\n",
       "        0, 0, 0, 0, 0, 0, 0, 0, 0, 0, 1, 1, 0, 0, 0, 0, 0, 0, 0, 0, 0, 0,\n",
       "        0, 0, 0, 0, 0, 0, 0, 0, 0, 0, 0, 0, 0, 0, 0, 0, 0, 0, 0, 0, 0, 0,\n",
       "        0, 1, 1, 0, 0, 0, 0, 0, 0, 0, 0, 0, 0, 0, 0, 0, 0, 0, 0, 0, 0, 0,\n",
       "        0, 0, 1, 0, 0, 0, 0, 0, 0, 1, 1, 0, 0, 0, 0, 0, 0, 0, 0, 0, 0, 0,\n",
       "        0, 0, 0, 0, 0, 0, 0, 0, 0, 0, 0, 0, 0, 1, 1, 0, 0, 0, 0, 0, 0, 0,\n",
       "        0, 0, 0, 0, 0, 0, 0, 0, 0, 1, 1, 0, 0, 0, 0, 1, 1, 0, 0, 0, 0, 0,\n",
       "        0, 0, 0, 0, 0, 0, 0, 1, 1, 1, 1, 0, 0, 0, 0, 0, 0, 0, 1, 1, 0, 0,\n",
       "        0, 0, 0, 0, 0, 0, 0, 0, 0, 0, 0, 0, 0, 0, 0, 0, 0, 0, 0, 0, 0, 0,\n",
       "        0, 0, 0, 0, 1, 1, 0, 0, 0, 0, 0, 0, 0, 0, 1, 1, 0, 0, 0, 0, 0, 0,\n",
       "        0, 0, 0, 0, 0, 0, 0, 0, 0, 0, 0, 0, 0, 0, 0, 0, 0, 0, 0, 0, 0, 0,\n",
       "        0, 0, 0, 0, 0, 0, 0, 0, 0, 0, 0, 0, 1, 1, 0, 0, 1, 1, 0, 0, 0, 0,\n",
       "        0, 0, 0, 0, 0, 0, 0, 0, 0, 0, 0, 0, 0, 0, 1, 1, 0, 0, 0, 0, 0, 0,\n",
       "        0, 0, 0, 0, 0, 0, 0, 0, 0, 0, 0, 0, 0, 0, 0, 0, 0, 0, 0, 0]],\n",
       "      dtype=int64)"
      ]
     },
     "execution_count": 142,
     "metadata": {},
     "output_type": "execute_result"
    }
   ],
   "source": [
    "X[0].toarray() ## here binary is ture"
   ]
  },
  {
   "cell_type": "code",
   "execution_count": 143,
   "id": "7c903a39",
   "metadata": {},
   "outputs": [
    {
     "data": {
      "text/plain": [
       "(1, 350)"
      ]
     },
     "execution_count": 143,
     "metadata": {},
     "output_type": "execute_result"
    }
   ],
   "source": [
    "X[0].toarray().shape"
   ]
  },
  {
   "cell_type": "code",
   "execution_count": 156,
   "id": "79bdc3c2",
   "metadata": {},
   "outputs": [],
   "source": [
    "#TF-IDF\n",
    "from sklearn.feature_extraction.text import TfidfVectorizer\n",
    "cv=TfidfVectorizer()\n",
    "X= cv.fit_transform(corpus)"
   ]
  },
  {
   "cell_type": "code",
   "execution_count": 157,
   "id": "7fde2a3e",
   "metadata": {},
   "outputs": [
    {
     "data": {
      "text/plain": [
       "'narendra damodardas modi gujarati n end mod modi listen born september b indian politician serving th current prime minister india since'"
      ]
     },
     "execution_count": 157,
     "metadata": {},
     "output_type": "execute_result"
    }
   ],
   "source": [
    "corpus[0]"
   ]
  },
  {
   "cell_type": "code",
   "execution_count": 158,
   "id": "03170365",
   "metadata": {},
   "outputs": [
    {
     "data": {
      "text/plain": [
       "array([[0.        , 0.        , 0.        , 0.        , 0.        ,\n",
       "        0.        , 0.        , 0.        , 0.        , 0.        ,\n",
       "        0.        , 0.        , 0.22197263, 0.        , 0.        ,\n",
       "        0.        , 0.        , 0.        , 0.        , 0.        ,\n",
       "        0.        , 0.        , 0.        , 0.        , 0.        ,\n",
       "        0.25303871, 0.25303871, 0.        , 0.        , 0.        ,\n",
       "        0.        , 0.        , 0.        , 0.        , 0.        ,\n",
       "        0.        , 0.        , 0.        , 0.        , 0.25303871,\n",
       "        0.        , 0.        , 0.        , 0.        , 0.        ,\n",
       "        0.        , 0.        , 0.        , 0.        , 0.        ,\n",
       "        0.        , 0.        , 0.25303871, 0.        , 0.        ,\n",
       "        0.        , 0.        , 0.        , 0.        , 0.        ,\n",
       "        0.        , 0.        , 0.        , 0.19993089, 0.19993089,\n",
       "        0.        , 0.        , 0.        , 0.        , 0.        ,\n",
       "        0.        , 0.        , 0.        , 0.        , 0.        ,\n",
       "        0.        , 0.        , 0.25303871, 0.        , 0.        ,\n",
       "        0.        , 0.        , 0.        , 0.15705404, 0.25303871,\n",
       "        0.25945237, 0.        , 0.25303871, 0.        , 0.        ,\n",
       "        0.        , 0.        , 0.        , 0.        , 0.        ,\n",
       "        0.        , 0.        , 0.        , 0.        , 0.        ,\n",
       "        0.        , 0.        , 0.        , 0.        , 0.25303871,\n",
       "        0.        , 0.        , 0.        , 0.        , 0.19993089,\n",
       "        0.        , 0.        , 0.        , 0.        , 0.        ,\n",
       "        0.        , 0.        , 0.        , 0.        , 0.        ,\n",
       "        0.        , 0.        , 0.        , 0.        , 0.        ,\n",
       "        0.        , 0.        , 0.        , 0.        , 0.        ,\n",
       "        0.        , 0.25303871, 0.22197263, 0.        , 0.        ,\n",
       "        0.22197263, 0.        , 0.        , 0.        , 0.        ,\n",
       "        0.        , 0.        , 0.        , 0.        , 0.        ,\n",
       "        0.25303871, 0.        , 0.        , 0.        , 0.        ,\n",
       "        0.        , 0.        , 0.        , 0.        , 0.        ,\n",
       "        0.        , 0.        , 0.        , 0.        , 0.        ,\n",
       "        0.        , 0.        ]])"
      ]
     },
     "execution_count": 158,
     "metadata": {},
     "output_type": "execute_result"
    }
   ],
   "source": [
    "X[0].toarray()  "
   ]
  },
  {
   "cell_type": "code",
   "execution_count": 172,
   "id": "cc9b94d0",
   "metadata": {},
   "outputs": [],
   "source": [
    "from sklearn.feature_extraction.text import TfidfVectorizer\n",
    "cv=TfidfVectorizer(ngram_range=(3,3),max_features=3)#after applying trigrama value will change\n",
    "#  we  get all occurance whose maximum frequency is 3\n",
    "X= cv.fit_transform(corpus)"
   ]
  },
  {
   "cell_type": "code",
   "execution_count": 173,
   "id": "8e8893e8",
   "metadata": {},
   "outputs": [
    {
     "data": {
      "text/plain": [
       "'narendra damodardas modi gujarati n end mod modi listen born september b indian politician serving th current prime minister india since'"
      ]
     },
     "execution_count": 173,
     "metadata": {},
     "output_type": "execute_result"
    }
   ],
   "source": [
    "corpus[0] "
   ]
  },
  {
   "cell_type": "code",
   "execution_count": 171,
   "id": "fc888188",
   "metadata": {},
   "outputs": [
    {
     "data": {
      "text/plain": [
       "array([[0.        , 0.        , 0.        , 0.        , 0.        ,\n",
       "        0.        , 0.        , 0.        , 0.        , 0.        ,\n",
       "        0.        , 0.        , 0.        , 0.24253563, 0.        ,\n",
       "        0.        , 0.        , 0.        , 0.        , 0.        ,\n",
       "        0.        , 0.        , 0.        , 0.        , 0.        ,\n",
       "        0.24253563, 0.24253563, 0.        , 0.        , 0.        ,\n",
       "        0.        , 0.        , 0.        , 0.        , 0.        ,\n",
       "        0.        , 0.24253563, 0.        , 0.        , 0.        ,\n",
       "        0.        , 0.        , 0.        , 0.        , 0.        ,\n",
       "        0.        , 0.        , 0.        , 0.        , 0.        ,\n",
       "        0.        , 0.        , 0.        , 0.24253563, 0.        ,\n",
       "        0.        , 0.        , 0.        , 0.        , 0.        ,\n",
       "        0.        , 0.        , 0.        , 0.        , 0.        ,\n",
       "        0.        , 0.        , 0.24253563, 0.        , 0.        ,\n",
       "        0.        , 0.        , 0.        , 0.        , 0.        ,\n",
       "        0.        , 0.        , 0.        , 0.        , 0.        ,\n",
       "        0.24253563, 0.        , 0.        , 0.        , 0.        ,\n",
       "        0.        , 0.        , 0.        , 0.        , 0.24253563,\n",
       "        0.        , 0.        , 0.24253563, 0.        , 0.        ,\n",
       "        0.        , 0.        , 0.        , 0.        , 0.24253563,\n",
       "        0.24253563, 0.        , 0.        , 0.        , 0.24253563,\n",
       "        0.        , 0.        , 0.        , 0.        , 0.        ,\n",
       "        0.        , 0.        , 0.        , 0.        , 0.        ,\n",
       "        0.        , 0.        , 0.        , 0.24253563, 0.        ,\n",
       "        0.        , 0.        , 0.        , 0.24253563, 0.        ,\n",
       "        0.        , 0.        , 0.        , 0.        , 0.        ,\n",
       "        0.        , 0.        , 0.        , 0.        , 0.        ,\n",
       "        0.        , 0.        , 0.        , 0.        , 0.        ,\n",
       "        0.        , 0.        , 0.        , 0.        , 0.24253563,\n",
       "        0.        , 0.24253563, 0.        , 0.        , 0.        ,\n",
       "        0.        , 0.        , 0.        , 0.        , 0.        ,\n",
       "        0.        , 0.24253563, 0.        , 0.        , 0.        ,\n",
       "        0.        , 0.        , 0.        , 0.        , 0.        ,\n",
       "        0.        , 0.        , 0.        ]])"
      ]
     },
     "execution_count": 171,
     "metadata": {},
     "output_type": "execute_result"
    }
   ],
   "source": [
    "X[0].toarray()"
   ]
  },
  {
   "cell_type": "code",
   "execution_count": 174,
   "id": "9c545bac",
   "metadata": {},
   "outputs": [
    {
     "data": {
      "text/plain": [
       "array([[0., 0., 0.]])"
      ]
     },
     "execution_count": 174,
     "metadata": {},
     "output_type": "execute_result"
    }
   ],
   "source": [
    "X[0].toarray()"
   ]
  },
  {
   "cell_type": "code",
   "execution_count": null,
   "id": "1f27ebc4",
   "metadata": {},
   "outputs": [],
   "source": [
    " "
   ]
  }
 ],
 "metadata": {
  "kernelspec": {
   "display_name": "Python 3 (ipykernel)",
   "language": "python",
   "name": "python3"
  },
  "language_info": {
   "codemirror_mode": {
    "name": "ipython",
    "version": 3
   },
   "file_extension": ".py",
   "mimetype": "text/x-python",
   "name": "python",
   "nbconvert_exporter": "python",
   "pygments_lexer": "ipython3",
   "version": "3.9.7"
  }
 },
 "nbformat": 4,
 "nbformat_minor": 5
}
